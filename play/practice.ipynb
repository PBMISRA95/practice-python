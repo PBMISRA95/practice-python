{
 "cells": [
  {
   "cell_type": "markdown",
   "id": "ce394a4d",
   "metadata": {},
   "source": [
    "## Practice Date - 28th October 2025\n",
    "\n",
    "Using Online compiler - programiz.com"
   ]
  },
  {
   "cell_type": "code",
   "execution_count": 8,
   "id": "ef18dccf",
   "metadata": {},
   "outputs": [],
   "source": [
    "# Different types of inputs\n",
    "num = 4                     # Int type\n",
    "input_nums = [1,2,3,4,5]    # List of integers\n",
    "input_str=\"HellOoll\"           # String"
   ]
  },
  {
   "cell_type": "code",
   "execution_count": 9,
   "id": "a3d96bfb",
   "metadata": {},
   "outputs": [
    {
     "name": "stdout",
     "output_type": "stream",
     "text": [
      "3\n"
     ]
    }
   ],
   "source": [
    "# Q5. Write a function that counts the number of vowels (a, e, i, o, u) in a string.\n",
    "def count_vowels(input_str: str) -> int:\n",
    "    vowel_cnt = 0\n",
    "    for char in input_str:\n",
    "        if char in \"aeiouAEIOU\":\n",
    "            vowel_cnt += 1\n",
    "    return vowel_cnt\n",
    "print(count_vowels(input_str))\n",
    "        "
   ]
  },
  {
   "cell_type": "code",
   "execution_count": null,
   "id": "6c81deaa",
   "metadata": {},
   "outputs": [],
   "source": []
  },
  {
   "cell_type": "code",
   "execution_count": 2,
   "id": "cfb032ad",
   "metadata": {},
   "outputs": [
    {
     "name": "stdout",
     "output_type": "stream",
     "text": [
      "Try programiz.pro\n"
     ]
    }
   ],
   "source": [
    "# Online Python compiler (interpreter) to run Python online.\n",
    "# Write Python 3 code in this online editor and run it.\n",
    "print(\"Try programiz.pro\")"
   ]
  },
  {
   "cell_type": "code",
   "execution_count": 3,
   "id": "6f41bead",
   "metadata": {},
   "outputs": [
    {
     "name": "stdout",
     "output_type": "stream",
     "text": [
      "120\n"
     ]
    }
   ],
   "source": [
    "# Q4. Write a function to compute the factorial of a non-negative integer.\n",
    "number = 5\n",
    "def factorial(num: int) -> int:\n",
    "    factorial = 1\n",
    "    while num != 0:\n",
    "        factorial *= num\n",
    "        num -= 1\n",
    "    return factorial\n",
    "print(factorial(number))\n"
   ]
  },
  {
   "cell_type": "code",
   "execution_count": 4,
   "id": "1ab86180",
   "metadata": {},
   "outputs": [
    {
     "name": "stdout",
     "output_type": "stream",
     "text": [
      "even\n"
     ]
    }
   ],
   "source": [
    "# Q3. Write a function that takes an integer and return \"even\" if its even, \"odd\" if its odd\n",
    "num = 4\n",
    "\n",
    "def check_odd_or_even(num):\n",
    "    remainder = num%2\n",
    "    if remainder == 0:\n",
    "        return \"even\"\n",
    "    else:\n",
    "        return \"odd\"\n",
    "\n",
    "print(check_odd_or_even(num))"
   ]
  },
  {
   "cell_type": "code",
   "execution_count": 5,
   "id": "ae9b2eb8",
   "metadata": {},
   "outputs": [
    {
     "name": "stdout",
     "output_type": "stream",
     "text": [
      "15\n"
     ]
    }
   ],
   "source": [
    "# Q2. Write a function that takes a list of numbers and returns the sum.\n",
    "input_nums = [1,2,3,4,5]\n",
    "def sum_list(input_nums: list[int]) -> int:\n",
    "    return sum(input_nums)\n",
    "\n",
    "print(str(sum_list(input_nums)))"
   ]
  },
  {
   "cell_type": "code",
   "execution_count": 6,
   "id": "f76aa25c",
   "metadata": {},
   "outputs": [
    {
     "name": "stdout",
     "output_type": "stream",
     "text": [
      "olleH\n"
     ]
    }
   ],
   "source": [
    "# Q1. Write a function that takes a string as input and returns it reversed.\n",
    "input_str=\"Hello\"\n",
    "def reverse_string(input_str:str) -> str:\n",
    "    return input_str[::-1]\n",
    "print(reverse_string(input_str))"
   ]
  }
 ],
 "metadata": {
  "kernelspec": {
   "display_name": "personal",
   "language": "python",
   "name": "python3"
  },
  "language_info": {
   "codemirror_mode": {
    "name": "ipython",
    "version": 3
   },
   "file_extension": ".py",
   "mimetype": "text/x-python",
   "name": "python",
   "nbconvert_exporter": "python",
   "pygments_lexer": "ipython3",
   "version": "3.11.11"
  }
 },
 "nbformat": 4,
 "nbformat_minor": 5
}
