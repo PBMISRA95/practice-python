{
 "cells": [
  {
   "cell_type": "markdown",
   "id": "aa04f731",
   "metadata": {},
   "source": [
    "# Main file to run all these methods\n",
    "\n",
    "### Importing all revelant modules"
   ]
  },
  {
   "cell_type": "code",
   "execution_count": 10,
   "id": "0019b8ac",
   "metadata": {},
   "outputs": [],
   "source": [
    "# Main file to run all these methods\n",
    "\n",
    "from q1_string_reverse import reverse_string\n",
    "from q2_sum_of_numbers import sum_list\n",
    "from q3_check_odd_even import check_even_odd\n",
    "from q4_factorial import factorial\n",
    "from q5_counts_vowels import count_vowels"
   ]
  },
  {
   "cell_type": "markdown",
   "id": "0589838c",
   "metadata": {},
   "source": [
    "### Q1 - Reversing a string"
   ]
  },
  {
   "cell_type": "code",
   "execution_count": 2,
   "id": "9744a9bc",
   "metadata": {},
   "outputs": [
    {
     "name": "stdout",
     "output_type": "stream",
     "text": [
      "The reverse of the hello is olleh\n"
     ]
    }
   ],
   "source": [
    "input_string = input(\"Enter a string to be reversed = \")\n",
    "print(f\"The reverse of the {input_string} is {reverse_string(input_string)}\")"
   ]
  },
  {
   "cell_type": "markdown",
   "id": "1b349381",
   "metadata": {},
   "source": [
    "### Q2 - Reversing a string"
   ]
  },
  {
   "cell_type": "code",
   "execution_count": 3,
   "id": "a571b223",
   "metadata": {},
   "outputs": [
    {
     "name": "stdout",
     "output_type": "stream",
     "text": [
      "The sum of [1, 2, 3, 4, 5] is 15\n"
     ]
    }
   ],
   "source": [
    "input_list = [1,2,3,4,5]\n",
    "print(f\"The sum of {input_list} is {sum_list(input_list)}\")"
   ]
  },
  {
   "cell_type": "markdown",
   "id": "57877ad7",
   "metadata": {},
   "source": [
    "\n",
    "### Q3 - Checking odd or even\n"
   ]
  },
  {
   "cell_type": "code",
   "execution_count": 4,
   "id": "131f3242",
   "metadata": {},
   "outputs": [
    {
     "name": "stdout",
     "output_type": "stream",
     "text": [
      "The integer 2 is even\n"
     ]
    }
   ],
   "source": [
    "input_num = int(input(\"Enter an integer = \"))\n",
    "print(f\"The integer {input_num} is {check_even_odd(input_num)}\")"
   ]
  },
  {
   "cell_type": "markdown",
   "id": "14d75d76",
   "metadata": {},
   "source": [
    "### Q4 - Factorial of a number"
   ]
  },
  {
   "cell_type": "code",
   "execution_count": 5,
   "id": "c871691b",
   "metadata": {},
   "outputs": [
    {
     "name": "stdout",
     "output_type": "stream",
     "text": [
      "The factorial of 5 is 120\n"
     ]
    }
   ],
   "source": [
    "input_num = int(input(\"Enter a number = \"))\n",
    "print(f\"The factorial of {input_num} is {str(factorial(input_num))}\")"
   ]
  },
  {
   "cell_type": "markdown",
   "id": "af8456d6",
   "metadata": {},
   "source": [
    "### Q5 - Counting the vowel with maximum count"
   ]
  },
  {
   "cell_type": "code",
   "execution_count": 15,
   "id": "ca86cb70",
   "metadata": {},
   "outputs": [
    {
     "name": "stdout",
     "output_type": "stream",
     "text": [
      "o is the vowel with the maximum count that is 2 in the input string hellooiyu\n"
     ]
    }
   ],
   "source": [
    "input_string = input(\"Enter a string = \")\n",
    "max_value, max_vowel = count_vowels(input_string)\n",
    "print(f\"{max_vowel} is the vowel with the maximum count that is {max_value} in the input string {input_string}\")"
   ]
  }
 ],
 "metadata": {
  "kernelspec": {
   "display_name": "snap",
   "language": "python",
   "name": "python3"
  },
  "language_info": {
   "codemirror_mode": {
    "name": "ipython",
    "version": 3
   },
   "file_extension": ".py",
   "mimetype": "text/x-python",
   "name": "python",
   "nbconvert_exporter": "python",
   "pygments_lexer": "ipython3",
   "version": "3.11.13"
  }
 },
 "nbformat": 4,
 "nbformat_minor": 5
}
