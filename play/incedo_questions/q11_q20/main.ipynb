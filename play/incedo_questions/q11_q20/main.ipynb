{
 "cells": [
  {
   "cell_type": "markdown",
   "id": "3df72236",
   "metadata": {},
   "source": [
    "# Main file to run all these methods\n",
    "### for questions 11 to 20\n",
    "### Importing all revelant modules"
   ]
  },
  {
   "cell_type": "code",
   "execution_count": 1,
   "id": "10bd05e4",
   "metadata": {},
   "outputs": [],
   "source": [
    "from q11_character_count import count_chars\n",
    "from q12_squares_nums import square_odds\n",
    "from q13_rotate_list import rotate_list"
   ]
  },
  {
   "cell_type": "code",
   "execution_count": 2,
   "id": "a1ae7d6d",
   "metadata": {},
   "outputs": [
    {
     "name": "stdout",
     "output_type": "stream",
     "text": [
      "The hello has the following character counts\n",
      ": {'h': 1, 'e': 1, 'l': 2, 'o': 1}\n"
     ]
    }
   ],
   "source": [
    "input_str11 = input(\"Enter the input string \")\n",
    "\n",
    "print(f\"The {input_str11} has the following character counts\\n: {count_chars(input_str11)}\")"
   ]
  },
  {
   "cell_type": "code",
   "execution_count": 2,
   "id": "64f78885",
   "metadata": {},
   "outputs": [
    {
     "name": "stdout",
     "output_type": "stream",
     "text": [
      "The [1, 2, 4, 5] has the following sqaure odds : [1, 2, 4, 25]\n"
     ]
    }
   ],
   "source": [
    "input_list12 = [1, 2, 4, 5]\n",
    "print (f\"The {input_list12} has the following sqaure odds : {square_odds(input_list12)}\")"
   ]
  },
  {
   "cell_type": "code",
   "execution_count": 4,
   "id": "9a67c9fb",
   "metadata": {},
   "outputs": [
    {
     "name": "stdout",
     "output_type": "stream",
     "text": [
      "\n",
      "Input is [1, 2, 3, 4, 5, 6]\n",
      "k is 4 \n",
      "Output is :[3, 4, 5, 6, 1, 2, 3]\n"
     ]
    }
   ],
   "source": [
    "input_list13 = [1, 2, 3, 4, 5, 6]\n",
    "k = 4\n",
    "print(f\"\\nInput is {input_list13}\\nk is {k} \\nOutput is :{rotate_list(input_list13, k)}\")"
   ]
  }
 ],
 "metadata": {
  "kernelspec": {
   "display_name": "personal",
   "language": "python",
   "name": "python3"
  },
  "language_info": {
   "codemirror_mode": {
    "name": "ipython",
    "version": 3
   },
   "file_extension": ".py",
   "mimetype": "text/x-python",
   "name": "python",
   "nbconvert_exporter": "python",
   "pygments_lexer": "ipython3",
   "version": "3.11.11"
  }
 },
 "nbformat": 4,
 "nbformat_minor": 5
}
