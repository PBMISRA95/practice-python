{
 "cells": [
  {
   "cell_type": "markdown",
   "id": "3df72236",
   "metadata": {},
   "source": [
    "# Main file to run all these methods\n",
    "### for questions 11 to 20\n",
    "### Importing all revelant modules"
   ]
  },
  {
   "cell_type": "code",
   "execution_count": 1,
   "id": "10bd05e4",
   "metadata": {},
   "outputs": [],
   "source": [
    "from q11_character_count import count_chars\n",
    "from q12_squares_nums import square_odds"
   ]
  },
  {
   "cell_type": "code",
   "execution_count": 2,
   "id": "a1ae7d6d",
   "metadata": {},
   "outputs": [
    {
     "name": "stdout",
     "output_type": "stream",
     "text": [
      "The hello has the following character counts\n",
      ": {'h': 1, 'e': 1, 'l': 2, 'o': 1}\n"
     ]
    }
   ],
   "source": [
    "input_str11 = input(\"Enter the input string \")\n",
    "\n",
    "print(f\"The {input_str11} has the following character counts\\n: {count_chars(input_str11)}\")"
   ]
  },
  {
   "cell_type": "code",
   "execution_count": 2,
   "id": "64f78885",
   "metadata": {},
   "outputs": [
    {
     "name": "stdout",
     "output_type": "stream",
     "text": [
      "The [1, 2, 4, 5] has the following sqaure odds : [1, 2, 4, 25]\n"
     ]
    }
   ],
   "source": [
    "input_list12 = [1, 2, 4, 5]\n",
    "print (f\"The {input_list12} has the following sqaure odds : {square_odds(input_list12)}\")"
   ]
  }
 ],
 "metadata": {
  "kernelspec": {
   "display_name": "personal",
   "language": "python",
   "name": "python3"
  },
  "language_info": {
   "codemirror_mode": {
    "name": "ipython",
    "version": 3
   },
   "file_extension": ".py",
   "mimetype": "text/x-python",
   "name": "python",
   "nbconvert_exporter": "python",
   "pygments_lexer": "ipython3",
   "version": "3.11.11"
  }
 },
 "nbformat": 4,
 "nbformat_minor": 5
}
