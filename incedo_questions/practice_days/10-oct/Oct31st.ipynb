{
 "cells": [
  {
   "cell_type": "markdown",
   "id": "e38fc4d5",
   "metadata": {},
   "source": [
    "## Practice Date - 31st October 2025\n",
    "\n",
    "Using Online compiler - programiz.com"
   ]
  },
  {
   "cell_type": "markdown",
   "id": "ccc4407e",
   "metadata": {},
   "source": []
  },
  {
   "cell_type": "code",
   "execution_count": 7,
   "id": "2eee62e6",
   "metadata": {},
   "outputs": [],
   "source": [
    "# Different types of inputs\n",
    "num = 4                     # Int type\n",
    "input_nums = [1,1,1,2,3,1,7,5]    # List of integers\n",
    "input_str=\"HellOoll\"           # String\n",
    "input_str1=\"LOLVA\"           # String\n",
    "input_sentence = \"Hello this is India and I love India\""
   ]
  },
  {
   "cell_type": "code",
   "execution_count": 18,
   "id": "c8c09210",
   "metadata": {},
   "outputs": [
    {
     "name": "stdout",
     "output_type": "stream",
     "text": [
      "The count of characters in HellOoll is \n",
      "{'H': 1, 'e': 1, 'l': 4, 'O': 1, 'o': 1}\n"
     ]
    }
   ],
   "source": [
    "# Q11. Write a function that returns a dictionary of character counts in a string.\n",
    "def count_chars(input_str: str) -> dict:\n",
    "    count_of_chars = {}\n",
    "    for char in input_str:\n",
    "        if char in count_of_chars:\n",
    "            count_of_chars[char] +=1\n",
    "        else: \n",
    "            count_of_chars[char] = 1\n",
    "    return count_of_chars\n",
    "\n",
    "print(f\"The count of characters in {input_str} is \\n{count_chars(input_str)}\")"
   ]
  },
  {
   "cell_type": "code",
   "execution_count": 15,
   "id": "d56b0d41",
   "metadata": {},
   "outputs": [
    {
     "name": "stdout",
     "output_type": "stream",
     "text": [
      "The list of words as input is: ['Hello', 'this', 'is', 'India', 'and', 'I', 'love', 'India']\n",
      "The joined version is \n",
      "Hello this is India and I love India\n"
     ]
    }
   ],
   "source": [
    "# Q10. Write a function that takes a list of words and joins them \n",
    "# into a single string with spaces using join()\n",
    "list_of_words = input_sentence.split(\" \")\n",
    "print(f\"The list of words as input is: {list_of_words}\")\n",
    "\n",
    "def join_words(input_list_of_words: list[str])-> str:\n",
    "    return \" \".join(list_of_words)\n",
    "\n",
    "print(f\"The joined version is \\n{join_words(list_of_words)}\")"
   ]
  },
  {
   "cell_type": "code",
   "execution_count": null,
   "id": "29014a13",
   "metadata": {},
   "outputs": [],
   "source": []
  },
  {
   "cell_type": "code",
   "execution_count": null,
   "id": "b288ebdc",
   "metadata": {},
   "outputs": [
    {
     "name": "stdout",
     "output_type": "stream",
     "text": [
      "['Hello', 'this', 'is', 'India', 'and', 'I', 'love', 'India']\n",
      "{'Hello': 1, 'this': 1, 'is': 1, 'India': 2, 'and': 1, 'I': 1, 'love': 1}\n"
     ]
    }
   ],
   "source": [
    "# Q9. Write a function that takes a string and returns a dictionary \n",
    "# with the frequency of each word.\n",
    "\"\"\"\n",
    "create a hashmap\n",
    "if word from original list does not exist in hashmap then :\n",
    "    1. transfer the char into hashmap as key\n",
    "    2. count as 1\n",
    "else if word from original list exists in hashmap then:\\\n",
    "    1. count += 1\n",
    "\"\"\"\n",
    "def word_frequency(input_str: str)-> dict:\n",
    "    sentence_as_list_of_words = input_str.split(sep=\" \")\n",
    "    count_of_words = {}\n",
    "    for word in sentence_as_list_of_words:\n",
    "        if word in count_of_words:\n",
    "            count_of_words[word] += 1\n",
    "        else:\n",
    "            count_of_words[word] = 1\n",
    "    return count_of_words\n",
    "\n",
    "\n",
    "print(word_frequency(input_sentence))\n",
    "\n",
    "    "
   ]
  }
 ],
 "metadata": {
  "kernelspec": {
   "display_name": "personal",
   "language": "python",
   "name": "python3"
  },
  "language_info": {
   "codemirror_mode": {
    "name": "ipython",
    "version": 3
   },
   "file_extension": ".py",
   "mimetype": "text/x-python",
   "name": "python",
   "nbconvert_exporter": "python",
   "pygments_lexer": "ipython3",
   "version": "3.11.14"
  }
 },
 "nbformat": 4,
 "nbformat_minor": 5
}
