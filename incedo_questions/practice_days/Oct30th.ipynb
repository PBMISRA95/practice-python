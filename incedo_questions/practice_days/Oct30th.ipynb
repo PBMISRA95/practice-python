{
 "cells": [
  {
   "cell_type": "markdown",
   "id": "e38fc4d5",
   "metadata": {},
   "source": [
    "## Practice Date - 30th October 2025\n",
    "\n",
    "Using Online compiler - programiz.com"
   ]
  },
  {
   "cell_type": "markdown",
   "id": "ccc4407e",
   "metadata": {},
   "source": []
  }
 ],
 "metadata": {
  "language_info": {
   "name": "python"
  }
 },
 "nbformat": 4,
 "nbformat_minor": 5
}
