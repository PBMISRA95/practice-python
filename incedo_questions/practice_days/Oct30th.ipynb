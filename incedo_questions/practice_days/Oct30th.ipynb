{
 "cells": [
  {
   "cell_type": "markdown",
   "id": "e38fc4d5",
   "metadata": {},
   "source": [
    "## Practice Date - 30th October 2025\n",
    "\n",
    "Using Online compiler - programiz.com"
   ]
  },
  {
   "cell_type": "markdown",
   "id": "ccc4407e",
   "metadata": {},
   "source": []
  },
  {
   "cell_type": "code",
   "execution_count": 1,
   "id": "2eee62e6",
   "metadata": {},
   "outputs": [],
   "source": [
    "# Different types of inputs\n",
    "num = 4                     # Int type\n",
    "input_nums = [1,2,3,4,5]    # List of integers\n",
    "input_str=\"HellOoll\"           # String"
   ]
  },
  {
   "cell_type": "code",
   "execution_count": 2,
   "id": "b288ebdc",
   "metadata": {},
   "outputs": [
    {
     "name": "stdout",
     "output_type": "stream",
     "text": [
      "The max of [1, 2, 3, 4, 5] is 5\n"
     ]
    }
   ],
   "source": [
    "# Q6. Write a function that takes a list of numbers and returns the maximum value.\n",
    "def find_max(input_nums: list[int])-> int:\n",
    "    return max(input_nums)\n",
    "\n",
    "print(f\"The max of {input_nums} is {max(input_nums)}\")\n",
    "    "
   ]
  }
 ],
 "metadata": {
  "kernelspec": {
   "display_name": "personal",
   "language": "python",
   "name": "python3"
  },
  "language_info": {
   "codemirror_mode": {
    "name": "ipython",
    "version": 3
   },
   "file_extension": ".py",
   "mimetype": "text/x-python",
   "name": "python",
   "nbconvert_exporter": "python",
   "pygments_lexer": "ipython3",
   "version": "3.11.14"
  }
 },
 "nbformat": 4,
 "nbformat_minor": 5
}
