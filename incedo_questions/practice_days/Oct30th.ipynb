{
 "cells": [
  {
   "cell_type": "markdown",
   "id": "e38fc4d5",
   "metadata": {},
   "source": [
    "## Practice Date - 30th October 2025\n",
    "\n",
    "Using Online compiler - programiz.com"
   ]
  },
  {
   "cell_type": "markdown",
   "id": "ccc4407e",
   "metadata": {},
   "source": []
  },
  {
   "cell_type": "code",
   "execution_count": 10,
   "id": "2eee62e6",
   "metadata": {},
   "outputs": [],
   "source": [
    "# Different types of inputs\n",
    "num = 4                     # Int type\n",
    "input_nums = [1,2,3,4,5]    # List of integers\n",
    "input_str=\"HellOoll\"           # String\n",
    "input_str1=\"LOLVA\"           # String"
   ]
  },
  {
   "cell_type": "code",
   "execution_count": 11,
   "id": "d56b0d41",
   "metadata": {},
   "outputs": [
    {
     "name": "stdout",
     "output_type": "stream",
     "text": [
      "The input_str LOLVA is a palindrome: False\n"
     ]
    }
   ],
   "source": [
    "# Q7. Write a function that checks if a string is palindrome (case-insensitive)\n",
    "\n",
    "def is_palindrome(input_str: str) -> bool:\n",
    "    input_str = input_str.lower()\n",
    "    for char in input_str:\n",
    "        if input_str[::] != input_str[::-1]:\n",
    "            return False\n",
    "            break\n",
    "        else:\n",
    "            return True\n",
    "\n",
    "print(f\"The input_str {input_str1} is a palindrome: {is_palindrome(input_str1)}\")"
   ]
  },
  {
   "cell_type": "code",
   "execution_count": 2,
   "id": "b288ebdc",
   "metadata": {},
   "outputs": [
    {
     "name": "stdout",
     "output_type": "stream",
     "text": [
      "The max of [1, 2, 3, 4, 5] is 5\n"
     ]
    }
   ],
   "source": [
    "# Q6. Write a function that takes a list of numbers and returns the maximum value.\n",
    "def find_max(input_nums: list[int])-> int:\n",
    "    return max(input_nums)\n",
    "\n",
    "print(f\"The max of {input_nums} is {max(input_nums)}\")\n",
    "    "
   ]
  }
 ],
 "metadata": {
  "kernelspec": {
   "display_name": "personal",
   "language": "python",
   "name": "python3"
  },
  "language_info": {
   "codemirror_mode": {
    "name": "ipython",
    "version": 3
   },
   "file_extension": ".py",
   "mimetype": "text/x-python",
   "name": "python",
   "nbconvert_exporter": "python",
   "pygments_lexer": "ipython3",
   "version": "3.11.14"
  }
 },
 "nbformat": 4,
 "nbformat_minor": 5
}
