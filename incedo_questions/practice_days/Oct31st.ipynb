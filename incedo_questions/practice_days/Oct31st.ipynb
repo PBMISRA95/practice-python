{
 "cells": [
  {
   "cell_type": "markdown",
   "id": "e38fc4d5",
   "metadata": {},
   "source": [
    "## Practice Date - 31st October 2025\n",
    "\n",
    "Using Online compiler - programiz.com"
   ]
  },
  {
   "cell_type": "markdown",
   "id": "ccc4407e",
   "metadata": {},
   "source": []
  },
  {
   "cell_type": "code",
   "execution_count": 7,
   "id": "2eee62e6",
   "metadata": {},
   "outputs": [],
   "source": [
    "# Different types of inputs\n",
    "num = 4                     # Int type\n",
    "input_nums = [1,1,1,2,3,1,7,5]    # List of integers\n",
    "input_str=\"HellOoll\"           # String\n",
    "input_str1=\"LOLVA\"           # String\n",
    "input_sentence = \"Hello this is India and I love India\""
   ]
  },
  {
   "cell_type": "code",
   "execution_count": 32,
   "id": "c8c09210",
   "metadata": {},
   "outputs": [
    {
     "name": "stdout",
     "output_type": "stream",
     "text": [
      "[1, 1, 1, 2, 3, 1, 7, 5] and [1, 2, 3, 5, 7]\n",
      "None\n",
      "[1, 2, 3, 5, 7]\n"
     ]
    }
   ],
   "source": [
    "# Q8. Write a function that removes duplicates from a list and returns the result\n",
    "\n",
    "def remove_duplicates(input_nums: list[int]) -> list[int]:\n",
    "    return list(set(input_nums))\n",
    "\n",
    "print(f\"{input_nums} and {remove_duplicates(input_nums)}\")\n",
    "print(input_nums.sort())\n",
    "print(list(set(input_nums)))\n",
    "\n"
   ]
  },
  {
   "cell_type": "code",
   "execution_count": 11,
   "id": "d56b0d41",
   "metadata": {},
   "outputs": [
    {
     "name": "stdout",
     "output_type": "stream",
     "text": [
      "The input_str LOLVA is a palindrome: False\n"
     ]
    }
   ],
   "source": [
    "# Q7. Write a function that checks if a string is palindrome (case-insensitive)\n",
    "\n",
    "def is_palindrome(input_str: str) -> bool:\n",
    "    input_str = input_str.lower()\n",
    "    for char in input_str:\n",
    "        if input_str[::] != input_str[::-1]:\n",
    "            return False\n",
    "            break\n",
    "        else:\n",
    "            return True\n",
    "\n",
    "print(f\"The input_str {input_str1} is a palindrome: {is_palindrome(input_str1)}\")"
   ]
  },
  {
   "cell_type": "code",
   "execution_count": null,
   "id": "b288ebdc",
   "metadata": {},
   "outputs": [
    {
     "name": "stdout",
     "output_type": "stream",
     "text": [
      "['Hello', 'this', 'is', 'India', 'and', 'I', 'love', 'India']\n",
      "{'Hello': 1, 'this': 1, 'is': 1, 'India': 2, 'and': 1, 'I': 1, 'love': 1}\n"
     ]
    }
   ],
   "source": [
    "# Q9. Write a function that takes a string and returns a dictionary \n",
    "# with the frequency of each word.\n",
    "\"\"\"\n",
    "create a hashmap\n",
    "if word from original list does not exist in hashmap then :\n",
    "    1. transfer the char into hashmap as key\n",
    "    2. count as 1\n",
    "else if word from original list exists in hashmap then:\\\n",
    "    1. count += 1\n",
    "\"\"\"\n",
    "def word_frequency(input_str: str)-> dict:\n",
    "    sentence_as_list_of_words = input_str.split(sep=\" \")\n",
    "    count_of_words = {}\n",
    "    for word in sentence_as_list_of_words:\n",
    "        if word in count_of_words:\n",
    "            count_of_words[word] += 1\n",
    "        else:\n",
    "            count_of_words[word] = 1\n",
    "    return count_of_words\n",
    "\n",
    "\n",
    "print(word_frequency(input_sentence))\n",
    "\n",
    "    "
   ]
  }
 ],
 "metadata": {
  "kernelspec": {
   "display_name": "personal",
   "language": "python",
   "name": "python3"
  },
  "language_info": {
   "codemirror_mode": {
    "name": "ipython",
    "version": 3
   },
   "file_extension": ".py",
   "mimetype": "text/x-python",
   "name": "python",
   "nbconvert_exporter": "python",
   "pygments_lexer": "ipython3",
   "version": "3.11.14"
  }
 },
 "nbformat": 4,
 "nbformat_minor": 5
}
