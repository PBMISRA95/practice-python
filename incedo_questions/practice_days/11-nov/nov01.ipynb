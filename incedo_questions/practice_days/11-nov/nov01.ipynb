{
 "cells": [
  {
   "cell_type": "markdown",
   "id": "b4cd5960",
   "metadata": {},
   "source": [
    "## Practice Date - 01st November 2025\n",
    "\n",
    "Using Online compiler - programiz.com"
   ]
  },
  {
   "cell_type": "code",
   "execution_count": null,
   "id": "164eb7cc",
   "metadata": {},
   "outputs": [],
   "source": [
    "# Q12. Write a function that returns squares numbers in a list\n",
    "# if they are odd, using a list comprehension with a conditional.\n",
    "def square_odds(numbers: list[int])-> list[int]:\n",
    "    return [x**2 for x in numbers if x % 2 != 0]"
   ]
  }
 ],
 "metadata": {
  "kernelspec": {
   "display_name": "personal",
   "language": "python",
   "name": "python3"
  },
  "language_info": {
   "name": "python",
   "version": "3.12.12"
  }
 },
 "nbformat": 4,
 "nbformat_minor": 5
}
