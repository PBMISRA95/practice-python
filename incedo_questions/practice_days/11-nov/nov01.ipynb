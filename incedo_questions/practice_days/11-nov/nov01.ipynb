{
 "cells": [
  {
   "cell_type": "markdown",
   "id": "b4cd5960",
   "metadata": {},
   "source": [
    "## Practice Date - 01st November 2025\n",
    "\n",
    "Using Online compiler - programiz.com"
   ]
  },
  {
   "cell_type": "code",
   "execution_count": 2,
   "id": "0ecc001e",
   "metadata": {},
   "outputs": [],
   "source": [
    "# Different types of inputs\n",
    "num = 4                     # Int type\n",
    "input_nums = [1,1,1,2,3,1,4,5]    # List of integers\n",
    "input_str=\"HellOoll\"           # String\n",
    "input_str1=\"LOLVA\"           # String\n",
    "input_sentence = \"Hello this is India and I love India\""
   ]
  },
  {
   "cell_type": "code",
   "execution_count": 3,
   "id": "164eb7cc",
   "metadata": {},
   "outputs": [
    {
     "name": "stdout",
     "output_type": "stream",
     "text": [
      "[1, 1, 1, 9, 1, 25]\n"
     ]
    }
   ],
   "source": [
    "# Q12. Write a function that returns squares numbers in a list\n",
    "# if they are odd, using a list comprehension with a conditional.\n",
    "def square_odds(numbers: list[int])-> list[int]:\n",
    "    return [x**2 for x in numbers if x % 2 != 0]\n",
    "\n",
    "print(square_odds(input_nums))  # [1, 1, 1, 9, 49, 25]"
   ]
  },
  {
   "cell_type": "code",
   "execution_count": null,
   "id": "2c3bbd75",
   "metadata": {},
   "outputs": [],
   "source": [
    "#Q13. Write a function that rotates a list to the right by k steps,\n",
    "# using slicing.\n",
    "def rotate_list(nums:list)"
   ]
  }
 ],
 "metadata": {
  "kernelspec": {
   "display_name": "personal",
   "language": "python",
   "name": "python3"
  },
  "language_info": {
   "codemirror_mode": {
    "name": "ipython",
    "version": 3
   },
   "file_extension": ".py",
   "mimetype": "text/x-python",
   "name": "python",
   "nbconvert_exporter": "python",
   "pygments_lexer": "ipython3",
   "version": "3.12.12"
  }
 },
 "nbformat": 4,
 "nbformat_minor": 5
}
